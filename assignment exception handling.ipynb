{
 "cells": [
  {
   "cell_type": "code",
   "execution_count": null,
   "id": "6925bf60-2610-45ab-a4d1-5ef799a6c77a",
   "metadata": {},
   "outputs": [],
   "source": [
    "#answer 1\n",
    "\"\"\"An exception is an event, which occurs during the execution of a program that disrupts the normal \n",
    "flow of the program's instructions. In general, when a Python script encounters a situation that \n",
    "it cannot cope with, it raises an exception. An exception is a Python object that represents an error.\n",
    "\n",
    "An Exception is an event that occurs during the program execution and disrupts the normal flow of \n",
    "the program's execution. Errors mostly happen at compile-time like syntax error; however it can happen \n",
    "at runtime as well. Whereas an Exception occurs at runtime (checked exceptions can be detected\n",
    "at compile time).\"\"\""
   ]
  },
  {
   "cell_type": "code",
   "execution_count": null,
   "id": "bd1b10c8-c893-42b4-a1b8-c1a0f7f2a4c2",
   "metadata": {},
   "outputs": [],
   "source": [
    "#Answer 2\n",
    "\"\"\"If an exception occurs during execution of the try clause, the exception may be handled by \n",
    "an except clause. If the exception is not handled by an except clause, the exception is re-raised\n",
    "after the finally clause has been executed.\"\"\""
   ]
  },
  {
   "cell_type": "code",
   "execution_count": null,
   "id": "cc2bab1b-e060-4300-9b6c-498fdf7babe9",
   "metadata": {},
   "outputs": [],
   "source": [
    "#answer 3\n",
    "\"\"\"The try and except block in Python is used to catch and handle exceptions. \n",
    "Python executes code following the try statement as a “normal” part of the program.\"\"\""
   ]
  },
  {
   "cell_type": "code",
   "execution_count": null,
   "id": "da719bb5-8960-4a27-89fe-68abd4ae7064",
   "metadata": {},
   "outputs": [],
   "source": [
    "#answer4\n",
    "\"\"\"(A.)\n",
    "The try block lets you test a block of code for errors. \n",
    "The else block lets you execute code when there is no error.\n",
    "(B.)The finally block lets you execute code, regardless of the result of the try- and except blocks.\n",
    "(C.)The raise keyword is used to raise an exception.\n",
    "You can define what kind of error to raise, and the text to print to the user.\n",
    "\"\"\""
   ]
  },
  {
   "cell_type": "code",
   "execution_count": null,
   "id": "3b472f82-7828-4137-bb0e-59375396f1c7",
   "metadata": {},
   "outputs": [],
   "source": [
    "#answer 5\n",
    "\"\"\"In Python, we can define custom exceptions by creating a new class that is derived from \n",
    "the built-in Exception class.\n",
    "Built-in exceptions offer information about Python-related problems,\n",
    "and custom exceptions will add information about project-related problems. \n",
    "That way, you can design your code (and traceback, if an exception is raised) in a way \n",
    "that combines Python code with the language of the project\"\"\""
   ]
  },
  {
   "cell_type": "code",
   "execution_count": 1,
   "id": "acf66d69-a00a-4718-9548-f4e18b28faab",
   "metadata": {},
   "outputs": [],
   "source": [
    "#answer 6\n",
    "class validate_age(Exception):\n",
    "    def __init__(self,msg):\n",
    "        self.msg=msg"
   ]
  },
  {
   "cell_type": "code",
   "execution_count": 2,
   "id": "dcb21568-f768-48d7-8039-83b1b2955492",
   "metadata": {},
   "outputs": [],
   "source": [
    "def validate_age(age):\n",
    "    if age<0:\n",
    "        raise validateage(\"entered age is negative\")\n",
    "    elif age>100:\n",
    "        raise validateage(\"entered age is very high\")\n",
    "    else:\n",
    "        print(\"age is valid\")"
   ]
  },
  {
   "cell_type": "code",
   "execution_count": 3,
   "id": "500572fe-3732-4ef5-9628-e250d222796d",
   "metadata": {},
   "outputs": [
    {
     "name": "stdin",
     "output_type": "stream",
     "text": [
      "enter your age 54\n"
     ]
    },
    {
     "name": "stdout",
     "output_type": "stream",
     "text": [
      "age is valid\n"
     ]
    }
   ],
   "source": [
    "try:\n",
    "    age=int(input(\"enter your age\"))\n",
    "    validate_age(age)\n",
    "except validateage as e:\n",
    "    print(e)"
   ]
  },
  {
   "cell_type": "code",
   "execution_count": null,
   "id": "0e88785b-74c8-4a10-84a3-1f7e9c02a1bf",
   "metadata": {},
   "outputs": [],
   "source": []
  }
 ],
 "metadata": {
  "kernelspec": {
   "display_name": "Python 3 (ipykernel)",
   "language": "python",
   "name": "python3"
  },
  "language_info": {
   "codemirror_mode": {
    "name": "ipython",
    "version": 3
   },
   "file_extension": ".py",
   "mimetype": "text/x-python",
   "name": "python",
   "nbconvert_exporter": "python",
   "pygments_lexer": "ipython3",
   "version": "3.10.8"
  }
 },
 "nbformat": 4,
 "nbformat_minor": 5
}
